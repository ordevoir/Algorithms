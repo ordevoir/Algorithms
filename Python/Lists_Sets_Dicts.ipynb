{
 "cells": [
  {
   "cell_type": "markdown",
   "metadata": {},
   "source": [
    "## Списки\n",
    "\n",
    "Математическая структура **списков** (*list* or *sequence*) представляет собой **последовательность** элементов определенного типа $a_1,a_2,…,a_n$\n",
    "\n",
    "Количество элементов $n$ называется длиной списка (*length*). В случае $n=0$ имеем пустой список, который не содержит элементов. \n",
    "\n",
    "Важное свойство списка заключается в том, что его элементы линейно упорядочены в соответствии с их позицией в списке: элемент $a_i$ следует за элементом $a_{i-1}$ и предшествует элементу $a_{i+1}$. Индекс элемента соответствует его позиции в списке. В программировании индексирование элемента начинается с $0$. При этом первый элемент в списке будет иметь индекс $0$, а последний элемент – индекс $n-1$.\n",
    "\n",
    "В Python спискок реализован в виде структуры данных, представленной классом `list`, позволяющая создавать гетерогенные списки произвольной изменяемой длины. Фактически, список в python представляет собой массив указателей, что делает `list` на нижнем уровне гомогенной структурой, однако, за счет того, что указатели могут ссылаться на объекты произвольной природы, последовательность становится гетерогенной."
   ]
  },
  {
   "cell_type": "markdown",
   "metadata": {},
   "source": [
    "### Способы создания списков\n",
    "\n",
    "Список можно создать путем явного указания поседовательности объектов списка:"
   ]
  },
  {
   "cell_type": "code",
   "execution_count": null,
   "metadata": {},
   "outputs": [],
   "source": [
    "Y = [0, 1, 3, 4, 5, 3, 1, 1]"
   ]
  },
  {
   "cell_type": "markdown",
   "metadata": {},
   "source": [
    "Можно создать пустой список и затем добавить в него элементы:"
   ]
  },
  {
   "cell_type": "code",
   "execution_count": null,
   "metadata": {},
   "outputs": [],
   "source": [
    "Z = list()          #   <=>  Z = []\n",
    "for i in range(6):\n",
    "    Z.append(i**2)\n",
    "\n",
    "print(Z)"
   ]
  },
  {
   "cell_type": "markdown",
   "metadata": {},
   "source": [
    "**Генерация списка** (*List Comprehension*). Генерация списков, как правило, выполняется быстрее, чем эквивалент с циклом, иногда даже гораздо быстрее. Однако, генератор списков сложнее отладить, потому что нельзя поместить в него инструкцию `print`."
   ]
  },
  {
   "cell_type": "code",
   "execution_count": null,
   "metadata": {},
   "outputs": [],
   "source": [
    "X = [x**2 for x in range(5)]\n",
    "print(X)"
   ]
  },
  {
   "cell_type": "markdown",
   "metadata": {},
   "source": [
    "### Доступ к элементам по индексу"
   ]
  },
  {
   "cell_type": "code",
   "execution_count": null,
   "metadata": {},
   "outputs": [],
   "source": [
    "print(Y[3])     # получние элемента по индексу\n",
    "Y[4] = 155      # изменение элемента по индексу\n",
    "print(Y)"
   ]
  },
  {
   "cell_type": "markdown",
   "metadata": {},
   "source": [
    "Можно перебрать все элементы списка при помощи оператора `in`:"
   ]
  },
  {
   "cell_type": "code",
   "execution_count": null,
   "metadata": {},
   "outputs": [],
   "source": [
    "for value in X:\n",
    "    print(value)"
   ]
  },
  {
   "cell_type": "markdown",
   "metadata": {},
   "source": [
    "### Основные методы класса `list`"
   ]
  },
  {
   "cell_type": "code",
   "execution_count": null,
   "metadata": {},
   "outputs": [],
   "source": [
    "Y.append(6)         # добавляет в конец списка объект 6\n",
    "Y.insert(4, 12)     # вставляет объект 12 в позицию 4\n",
    "Y.remove(1)         # удаляет из списка первый элемент со значением 1\n",
    "Y.extend(Z)\n",
    "print(Y.pop())      # удаляет и возвращаяет последний элемент\n",
    "print(Y.pop(6))     # удаляет и возвращаяет элемент с индексом 6\n",
    "print(Y.count(1),   'возвращает количество элементов со значением 1') \n",
    "print(Y.index(3),   'возвращает индекс первого элемента со значением 3')"
   ]
  },
  {
   "cell_type": "markdown",
   "metadata": {},
   "source": [
    "### Поведение операторов `+` и `in`"
   ]
  },
  {
   "cell_type": "code",
   "execution_count": null,
   "metadata": {},
   "outputs": [],
   "source": [
    "print(f\"{ Y = } \\n{Z = }\")\n",
    "print(f\"{ Y + Z = }\")        # оператор + производит конкатенацию двух списков\n",
    "print(f\"{ 12 in Y = }\")      # возвращает True, если элемент 12 содержится в Y"
   ]
  },
  {
   "cell_type": "markdown",
   "metadata": {},
   "source": [
    "### Срезы\n",
    "\n",
    "Срезы представляют собой способ получения **подпоследовательности** (*subsequence*) из последовательности (`list`, `str`, `tuple` и т.д.). "
   ]
  },
  {
   "cell_type": "code",
   "execution_count": null,
   "metadata": {},
   "outputs": [],
   "source": [
    "s = ['a', 'b', 'c', 'd']\n",
    "\n",
    "print(f\"{s = }\")\n",
    "print(f\"{s[:2]  = } \\n{s[2:]  = } \\n{s[:-2] = } \\n{s[-2:] = }\")"
   ]
  },
  {
   "cell_type": "code",
   "execution_count": null,
   "metadata": {},
   "outputs": [],
   "source": [
    "L = list(range(12))         # еще один способ создания списка\n",
    "print(f'{  L         = }')\n",
    "print(f'{  L[1::2]   = }')  # все элементы с нечетными индексами \n",
    "print(f'{  L[::2]    = }')  # все элементы с четными индексами [0::2]\n",
    "print(f'{  L[::3]    = }')  # каждый третий элемент начиная с нулевого\n",
    "print(f'{  L[5::4]   = }')  # каждый четвертый элемент начиная с 5\n",
    "print(f'{  L[3:10:2] = }')  # каждый второй элемент в диапазоне от 3 до 10"
   ]
  },
  {
   "attachments": {},
   "cell_type": "markdown",
   "metadata": {},
   "source": [
    "## Множества\n",
    "\n",
    "Абстрактная структура данных множеств реализована в python в виде структуры данных set. Множества в python являются объектами класса `set`. В множествах элементы не могут повторяться, и элементы не расположены в определенном порядке."
   ]
  },
  {
   "cell_type": "markdown",
   "metadata": {},
   "source": [
    "### Способы создания множеств\n",
    "\n",
    "Множество можно указать путем явного указания элементов множества:"
   ]
  },
  {
   "cell_type": "code",
   "execution_count": null,
   "metadata": {},
   "outputs": [],
   "source": [
    "A = {0, 1, 2, 3, 4, 5}"
   ]
  },
  {
   "cell_type": "markdown",
   "metadata": {},
   "source": [
    "Можно создать пустое множество и затем добавить в него элементы:"
   ]
  },
  {
   "cell_type": "code",
   "execution_count": null,
   "metadata": {},
   "outputs": [],
   "source": [
    "B = set()\n",
    "for i in range(11):\n",
    "    if i%2 == 0:\n",
    "        B.add(i)\n",
    "\n",
    "print(B)"
   ]
  },
  {
   "cell_type": "markdown",
   "metadata": {},
   "source": [
    "*Set Comprehention*:"
   ]
  },
  {
   "cell_type": "code",
   "execution_count": null,
   "metadata": {},
   "outputs": [],
   "source": [
    "C = {i for i in range(0, 11, 2)}\n",
    "print(C)"
   ]
  },
  {
   "cell_type": "markdown",
   "metadata": {},
   "source": [
    "### Доступ к элементам множества в цикле"
   ]
  },
  {
   "cell_type": "code",
   "execution_count": null,
   "metadata": {},
   "outputs": [],
   "source": [
    "for i in A:\n",
    "    print(i)"
   ]
  },
  {
   "cell_type": "markdown",
   "metadata": {},
   "source": [
    "### Основные методы класса `set`"
   ]
  },
  {
   "cell_type": "markdown",
   "metadata": {},
   "source": [
    "#### Операции над парой множеств\n",
    "![euler](euler.png)"
   ]
  },
  {
   "cell_type": "code",
   "execution_count": null,
   "metadata": {},
   "outputs": [],
   "source": [
    "print('A =', A, '    B =', B)\n",
    "\n",
    "# выражения, возвращающие объекты класса set\n",
    "print(f'{A.union(B) = }')                   # объединение             A | B\n",
    "print(f'{A.intersection(B) = }')            # пересечение             A & B\n",
    "print(f'{A.difference(B) = }')              # разность                A - B\n",
    "print(f'{A.symmetric_difference(B) = }')    # симметрическая разность A ^ B"
   ]
  },
  {
   "cell_type": "markdown",
   "metadata": {},
   "source": [
    "Следующие методы работают как и предыдушие, но вместо того, чтобы возвратить результат операции, они перезаписывают его в множество `A` (из которого вызваны)."
   ]
  },
  {
   "cell_type": "code",
   "execution_count": null,
   "metadata": {},
   "outputs": [],
   "source": [
    "# A.update(B)                         # A |= B \n",
    "# A.intersection_update(B)            # A &= B  \n",
    "# A.difference_update(B)              # A -= B  \n",
    "# A.symmetric_difference_update(B)    # A ^= B "
   ]
  },
  {
   "cell_type": "code",
   "execution_count": null,
   "metadata": {},
   "outputs": [],
   "source": [
    "# отношения между двумя множествами (выражения возвращают логический тип)\n",
    "print(f\"{ A.issubset(B)   = }\")     # является ли A подмножеством B\n",
    "print(f\"{ A.issuperset(B) = }\")     # является ли A надмножеством B\n",
    "print(f\"{ A.isdisjoint(B) = }\")     # являются ли A и B непересекающимися"
   ]
  },
  {
   "cell_type": "markdown",
   "metadata": {},
   "source": [
    "#### Операции над элементами множества"
   ]
  },
  {
   "cell_type": "code",
   "execution_count": null,
   "metadata": {},
   "outputs": [],
   "source": [
    "A = {0, 1, 2, 3, 4, 5}\n",
    "\n",
    "A.add(12)           # в множество A добалвяется элемент 12')    \n",
    "A.discard(12)       # удаляется элемент 12, если он есть') \n",
    "\n",
    "# A.remove(12)      # удаляется элемент 12 в отличие от discard, \n",
    "# метод remove возбуждает исключение, если элемент не найден\n",
    "\n",
    "print(f\"{A.pop() = }\")      # извлекается произвольный элемент\n",
    "print(f\"{2 in A = }\")       # проверяем принадлежность элемента 2 множеству A\n",
    "print(f\"{len(A) = }\")       # мощность множества (количество элементов)\n",
    "A.clear()                   # опустошение всего множетства\n",
    "print(f\"{A = }\")"
   ]
  },
  {
   "cell_type": "code",
   "execution_count": null,
   "metadata": {},
   "outputs": [],
   "source": [
    "C = A.copy() # в C запишется поверхностная копия множества A"
   ]
  },
  {
   "cell_type": "markdown",
   "metadata": {},
   "source": [
    "### Поведение бинарных операторов"
   ]
  },
  {
   "cell_type": "code",
   "execution_count": null,
   "metadata": {},
   "outputs": [],
   "source": [
    "# объединение двух множеств\n",
    "A = {1, 2, 3}\n",
    "B = {3, 4, 5}\n",
    "D = {*A, *B}    # объединение путем распаковки\n",
    " \n",
    "print(f'{ A = }')\n",
    "print(f'{ B = }')\n",
    "print(f'{ D = }')\n",
    "print(f' Объединение:    { A | B = }')   # объединение оператором\n",
    "print(f' Пересечение:    { A & B = }')\n",
    "print(f' Разность:       { A - B = }')\n",
    "print(f' Симм. разность: { A ^ B = }')\n",
    "\n",
    "# также доступны и такие операторы:\n",
    "A |= B      # объединение\n",
    "A &= B      # пересечение\n",
    "A -= B      # разность\n",
    "A ^= B      # симметрическая разность\n",
    "print(f'{ A = }')"
   ]
  },
  {
   "cell_type": "markdown",
   "metadata": {},
   "source": [
    "Сравнение множеств"
   ]
  },
  {
   "cell_type": "code",
   "execution_count": null,
   "metadata": {},
   "outputs": [],
   "source": [
    "A = {1, 2}\n",
    "B = {1, 2}\n",
    "C = A\n",
    "print(A.__eq__(B))          #  <=>  A == B\n",
    "print(A.__contains__(2))    #  <=>  2 in A\n",
    "\n",
    "print(f\"{ B == A = }\")      # равны ли множества; равносильно A.__eq__(B)\n",
    "print(f\"{ B is A = }\")      # выражение будет давать True, только если\n",
    "print(f\"{ C is A = }\")      # имена указывают на один и тот же объект"
   ]
  },
  {
   "cell_type": "markdown",
   "metadata": {},
   "source": [
    "### `frozenset`\n",
    "Следует упоминуть, что в Python реализовн также класс `frozenset`, отличающийся от `set` тем, что это неизменяемый тип данных, и, соответственно, набор его методов не содержит возможностей изменять объект."
   ]
  },
  {
   "attachments": {},
   "cell_type": "markdown",
   "metadata": {},
   "source": [
    "## Словари (ассоциативные массивы)\n",
    "\n",
    "**Ассоциативный массив** (**Associative Array**) - абстрактный тип данных, представляющий собой отображение множества ключей (keys) на множество значений (values), с операциями добавления пары (key: value), получения значения по ключу и удаления пары (insert, find, remove). В одном ассоциативном массиве не должно храниться две пары с одинаковыми ключами. Также для пары (k: v) говорят, что значение v ассоциировано с ключом k.\n",
    "\n",
    "В Python ассоциативный массив реализован в виде стуктуры данных, представленного классом `dict` (*Dictionary* - словарь)."
   ]
  },
  {
   "cell_type": "markdown",
   "metadata": {},
   "source": [
    "### Способы создания словарей\n",
    "Можно задать пары (ключ: значение) при создании словаря. В роли ключей могут выступать разные типы данных. Ограничением является то, что эти типы должны быть неизменяемыми: назначить в качестве ключа список или словарь не получится."
   ]
  },
  {
   "cell_type": "code",
   "execution_count": null,
   "metadata": {},
   "outputs": [],
   "source": [
    "d = {1: 'value', \n",
    "     True: 23,\n",
    "     'a': [1, 3, 5]\n",
    "     }\n",
    "\n",
    "print(d)"
   ]
  },
  {
   "cell_type": "markdown",
   "metadata": {},
   "source": [
    "Можно создать пустой словарь и затем добавить пары:"
   ]
  },
  {
   "cell_type": "code",
   "execution_count": null,
   "metadata": {},
   "outputs": [],
   "source": [
    "dictionary = dict()  # dictionary (словарь)\n",
    "\n",
    "# добавим несколько пар в формате dictionary[key] = value\n",
    "dictionary['key_1'] = 13\n",
    "dictionary[4] = [1, 4, 10]\n",
    "dictionary[(0,1)] = 'value'\n",
    "dictionary[3.4] = 23\n",
    "dictionary[False] = dictionary\n",
    "\n",
    "print(dictionary)"
   ]
  },
  {
   "cell_type": "markdown",
   "metadata": {},
   "source": [
    "### Доступ к элементам словаря"
   ]
  },
  {
   "cell_type": "code",
   "execution_count": null,
   "metadata": {},
   "outputs": [],
   "source": [
    "a = dictionary['key_1']     # получить значение по ключу 'key_1'\n",
    "print(a)\n",
    "dictionary['key_1'] = 12    # изменить значение ассоциированное с ключом\n",
    "# если такого ключа нет в словаре, то создается новая пара\n",
    "\n",
    "del dictionary[4]           # удаляется пара по ключу 4\n",
    "print(dictionary)"
   ]
  },
  {
   "cell_type": "code",
   "execution_count": null,
   "metadata": {},
   "outputs": [],
   "source": [
    "a = dictionary.pop(3.4)         # удаляет пару и возвращаяет значение по ключу\n",
    "print(a)\n",
    "b = dictionary.popitem()        # удаляет и возвращают пару в виде кортежа\n",
    "print(b)\n",
    "dictionary.setdefault('key_2')      # добавляет ключ со значением None\n",
    "dictionary.setdefault('key_3', 65)  # добавляет ключ со значением 65\n",
    "print(dictionary)"
   ]
  },
  {
   "cell_type": "markdown",
   "metadata": {},
   "source": [
    "### Получение последовательностей ключей и значений"
   ]
  },
  {
   "cell_type": "code",
   "execution_count": null,
   "metadata": {},
   "outputs": [],
   "source": [
    "keys = dictionary.keys()        # получить набор ключей\n",
    "values = dictionary.values()    # получить набор значений\n",
    "print(keys)\n",
    "print(values)\n",
    "print(list(keys))       # набор можно преобразовать в список"
   ]
  },
  {
   "cell_type": "code",
   "execution_count": null,
   "metadata": {},
   "outputs": [],
   "source": [
    "a = {'a': 11, 'b': 12, 'c': 13}\n",
    "dictionary.update(a)    # пополнение словаря парами из другого словаря\n",
    "dictionary"
   ]
  },
  {
   "cell_type": "code",
   "execution_count": null,
   "metadata": {},
   "outputs": [],
   "source": [
    "# можно проверить, содержится ли такой ключ в словаре:\n",
    "isKey = (0, 1) in dictionary\n",
    "print('object is a key in the dictionary:', isKey)\n",
    "\n",
    "# перебор в цикле всех ключей словаря\n",
    "for key in dictionary:\n",
    "    print(key)\n",
    "# также можно перебрать непосредственно значения\n",
    "for value in dictionary.values():\n",
    "    print(value)"
   ]
  },
  {
   "cell_type": "code",
   "execution_count": null,
   "metadata": {},
   "outputs": [],
   "source": [
    "a = {'a': 11, 'b': 12, 'c': 13}\n",
    "b = {'b': 14, 'd': 15, 'e': 16}\n",
    "c = {**a, **b}          # объединение словарей путем распаковки\n",
    "print(f'{c =     }')\n",
    "print(f'{a | b = }')   # начиная с версии python 3.9"
   ]
  }
 ],
 "metadata": {
  "kernelspec": {
   "display_name": "Python 3.9.12 ('tf')",
   "language": "python",
   "name": "python3"
  },
  "language_info": {
   "codemirror_mode": {
    "name": "ipython",
    "version": 3
   },
   "file_extension": ".py",
   "mimetype": "text/x-python",
   "name": "python",
   "nbconvert_exporter": "python",
   "pygments_lexer": "ipython3",
   "version": "3.10.10"
  },
  "orig_nbformat": 4,
  "vscode": {
   "interpreter": {
    "hash": "e20f72739ffc6c3cc505414aaab49afe57115ca17c783e620ccfd5d632835ddf"
   }
  }
 },
 "nbformat": 4,
 "nbformat_minor": 2
}

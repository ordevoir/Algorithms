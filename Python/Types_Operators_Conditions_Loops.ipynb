{
  "cells": [
    {
      "cell_type": "markdown",
      "metadata": {
        "id": "WRDkGjbFoQF8"
      },
      "source": [
        "Инструкции в python можно разделять переносом на следующую строку, а также символом \"`;`\". Принято разделять переносом. Воспользуемся двумя встроенными функциями:\n",
        "\n",
        "- [`print()`](https://docs.python.org/3/library/functions.html#print) выводит на печать значения выражений, переданных в аргументе\n",
        "- [`type()`](https://docs.python.org/3/library/functions.html#type) возвращает тип (класс) объекта, переданного в аргументе\n",
        "\n",
        "Полный список встроенных функций и их описание можно посмотреть в [документации](https://docs.python.org/3/library/functions.html)."
      ]
    },
    {
      "cell_type": "markdown",
      "metadata": {
        "id": "ULRVAMcIoQF_"
      },
      "source": [
        "## Создание переменных простых типов\n",
        "\n",
        "Создадим несколько переменных, которые будут содержать данные простых типов.  Интерпретатор python самостоятельно решает, какого типа будет создан объект в зависимости от присваиваемых значений."
      ]
    },
    {
      "cell_type": "code",
      "execution_count": null,
      "metadata": {
        "id": "7n86brawoQF_",
        "outputId": "0ea12f0c-86a2-44d2-aa8b-5883ae6643b0"
      },
      "outputs": [
        {
          "name": "stdout",
          "output_type": "stream",
          "text": [
            "<class 'int'>\n",
            "<class 'float'>\n",
            "<class 'str'>\n",
            "<class 'bool'>\n",
            "<class 'int'>\n",
            "<class 'NoneType'>\n"
          ]
        }
      ],
      "source": [
        "a = 5               # int\n",
        "b = 1.3             # float\n",
        "c = 'строка'        # str\n",
        "d = True            # bool\n",
        "n = None            # NoneType\n",
        "x = y = z = 15      # множественное присваивание\n",
        "\n",
        "h = a               # новое имя h ссылается на тот же объект, что и a\n",
        "\n",
        "print(type(a))\n",
        "print(type(b))\n",
        "print(type(c))\n",
        "print(type(d))\n",
        "print(type(h))\n",
        "print(type(n))"
      ]
    },
    {
      "cell_type": "markdown",
      "metadata": {
        "id": "0aRfUjF1oQGB"
      },
      "source": [
        "В python реализована динамическая типизация, поэтому, объявленной ранее переменной `a` можно присвоить другое значение любого типа. При этом, создается новый объект соответствующего типа, в данном случае – `str`, а целочисленный объект `5`, на который до этого ссылалась переменная `a`, уничтожается, если на него не ссылаются другие переменные. В данном случае имя\n",
        "`h` также ссылается на объект `5`, поэтому объект не уничтожится."
      ]
    },
    {
      "cell_type": "code",
      "execution_count": null,
      "metadata": {
        "id": "YHin42cGoQGB",
        "outputId": "253243d8-de08-4b5d-ed4e-d7f5f19aaa0a"
      },
      "outputs": [
        {
          "name": "stdout",
          "output_type": "stream",
          "text": [
            "Значение другого типа\n",
            "5\n"
          ]
        }
      ],
      "source": [
        "a = 'Значение другого типа'\n",
        "print(a)\n",
        "print(h)"
      ]
    },
    {
      "cell_type": "markdown",
      "metadata": {
        "id": "nUOWQbDooQGB"
      },
      "source": [
        "## Арифметические операторы"
      ]
    },
    {
      "cell_type": "code",
      "execution_count": null,
      "metadata": {
        "id": "__ItsiThoQGC"
      },
      "outputs": [],
      "source": [
        "print( 3 + 2 )      # сложение\n",
        "print( 3 - 2 )      # вычитание\n",
        "print( 3 * 2 )      # умножение\n",
        "print( 3 / 2 )      # деление\n",
        "print( 3 ** 2 )     # возведение в степень\n",
        "print( 3 % 2 )      # остаток от деления\n",
        "print( 3 // 2 )     # целочисленное деление\n",
        "# данные операторы возвращают число (int или float)"
      ]
    },
    {
      "cell_type": "markdown",
      "metadata": {
        "id": "4wXzlW7FoQGC"
      },
      "source": [
        "## Операторы сравнения"
      ]
    },
    {
      "cell_type": "code",
      "execution_count": null,
      "metadata": {
        "id": "8MrO_BLPoQGC"
      },
      "outputs": [],
      "source": [
        "print( 3 > 2 )      # больше\n",
        "print( 3 < 2 )      # меньше\n",
        "print( 3 >= 2 )     # больше либо равно\n",
        "print( 3 <= 2 )     # меньше либо равно\n",
        "print( 3 == 2 )     # равно\n",
        "print( 3 != 2 )     # не равно\n",
        "# эти операторы возвращают логический тип (False, True)"
      ]
    },
    {
      "cell_type": "markdown",
      "metadata": {
        "id": "u0j541ueoQGD"
      },
      "source": [
        "## Логические операторы\n",
        "\n",
        "- `not` - **отрицание** (*negation*)\n",
        "- `or` - **дизъюнкция** (*disjunction*)\n",
        "- `and` - **конъюнкция** (*conjunction*)"
      ]
    },
    {
      "cell_type": "code",
      "execution_count": null,
      "metadata": {
        "id": "YW46zI_YoQGD",
        "outputId": "d98d1efd-7512-4119-9c78-4c697625d3fd"
      },
      "outputs": [
        {
          "name": "stdout",
          "output_type": "stream",
          "text": [
            "False\n",
            "True\n",
            "\n",
            "True\n",
            "False\n"
          ]
        }
      ],
      "source": [
        "print( 1 == 2 )\n",
        "print( not 1 == 2 )                     # negation\n",
        "print()\n",
        "print( 1 == 2 or 1 == 1 or 2 != 3)      # disjunction\n",
        "print( 1 == 1 and 1 == 2 and 2 != 3)    # conjunction\n",
        "# эти операторы возвращают логический тип (False, True)"
      ]
    },
    {
      "cell_type": "markdown",
      "metadata": {
        "id": "KDqTK5hQoQGD"
      },
      "source": [
        "## Ветвление (*Conditional*)\n",
        "Интерпретатор Python выполняет инструкции последовательно (построчно), сверху вниз. Часто возникает необходимость выполнить те или иные инструкции в зависимости от условий. Т.е. мы хотим определить несколько ветвей развития событий. Например, мы хотим вывести на печать разные сообщения в зависимости от того, чему равно значение переменной `b`, которую мы определили ранее. В простейшем случае мы просто хотим вывести на печать некоторое сообщение, если значение `b` оказалось больше `0`.\n",
        "\n",
        "Опишем синтаксис. После ключевого слова `if` идет **условное выражение** (в данном случае `b < 1`). Условное выражение всегда должно возвращать значение булевого типа `False` или `True`. Далее, после двоеточия в последующих сторках с отступом записывается блок инструкий (вложенный код). Если условное выражение возвращает `True`, то выполняется блок инструкций, в противном случае - блок инструкций пропускается."
      ]
    },
    {
      "cell_type": "code",
      "execution_count": null,
      "metadata": {
        "id": "-rl2FiJooQGD",
        "outputId": "7e471bd0-44c4-481b-f003-6a9d4ee260d6"
      },
      "outputs": [
        {
          "name": "stdout",
          "output_type": "stream",
          "text": [
            "b = 1.3\n"
          ]
        }
      ],
      "source": [
        "if b == 1.3:            # условное выражение\n",
        "    print('b =', b)"
      ]
    },
    {
      "cell_type": "markdown",
      "metadata": {
        "id": "m3HwOmngoQGD"
      },
      "source": [
        "Предположим теперь, что мы хотим проверить несколько условий и в зависимости от них выполнить определенный блок инструкуий\n",
        "Ключевое слово `elif` - сокращение от *else if*. Оно используется для разделения на несколько ветвей. Если условное выражение, идущее после `if` оказывается истинным, то выполняется только блок инструкций вложенный в заголовок, а все инструкции вложенные в `elif` игнорируются. Если условное выражение, идущее после `if` оказывается ложным, то блок инструкий вложенный в заголовок пропускается и проверяется условное выражение, идущее после `elif`. Если это выражение возвращает `True`, то выполняется блок инструкций, вложенный в этот `elif`.\n",
        "\n",
        "Блок инструкций, вложенный в `else` выполняется только в том случае, если ни одно условное выражение идущее после `if` или `elif` не оказалось истинным.\n",
        "\n",
        "Если отсутствует блок `else`, то возможен случай, при котором не выполняется ни один блок. В общем случае может быть выполнено не более одного блока инструкций, т.е. ситуация, при которой будет выполнено более одной ветви невозможно."
      ]
    },
    {
      "cell_type": "code",
      "execution_count": null,
      "metadata": {
        "id": "GbTLhOMBoQGD",
        "outputId": "bbf9cf5c-662c-4351-ce8a-7ebde20dc954"
      },
      "outputs": [
        {
          "name": "stdout",
          "output_type": "stream",
          "text": [
            "а эта инструкуия, пожалуй, выполнится\n"
          ]
        }
      ],
      "source": [
        "if b == 1:\n",
        "    print('инструкция, которая не будет выполнена')\n",
        "elif b != 1.3:\n",
        "    print('и эта инструкция не будет выполнена')\n",
        "elif False:\n",
        "    print('и еще одна инструкция, которая не будет выполнена')\n",
        "# элементов ветвления elif может быть произвольное количество\n",
        "else:\n",
        "    print('а эта инструкуия, пожалуй, выполнится')"
      ]
    },
    {
      "cell_type": "markdown",
      "metadata": {
        "id": "Spva7qVxoQGE"
      },
      "source": [
        "## Циклы (*Loops*)\n",
        "Часто возникает необходимость многократно выполнять определенную последовательность инструкций (тело цикла) при некотором меняющемся параметре. Каждое отдельное выполнение тела цикла называется **итерацией**."
      ]
    },
    {
      "cell_type": "markdown",
      "metadata": {
        "id": "oe-miYPloQGE"
      },
      "source": [
        "### Оператор `while`\n",
        "После ключевого слова `while` идет **условие продолжения** цикла (в примере ниже это `number<6`). Итерации будут продолжаться до тех пор, пока условие продолжения будет оставаться истинным. Как только условие продолжения примет значение `False`, произойдет выход из цикла, и интерпретатор будет выполнять инструкции, идущие после тела цикла."
      ]
    },
    {
      "cell_type": "code",
      "execution_count": null,
      "metadata": {
        "id": "5un_C-rpoQGE",
        "outputId": "3cb267b5-7d06-4016-e233-fcb0936cfcee"
      },
      "outputs": [
        {
          "name": "stdout",
          "output_type": "stream",
          "text": [
            "number = 0\n",
            "number = 1\n",
            "number = 2\n",
            "number = 3\n",
            "number = 4\n",
            "number = 5\n",
            "эта инструкция выполняется после выхода из цикла\n"
          ]
        }
      ],
      "source": [
        "number = 0\n",
        "while number<6:\n",
        "    print('number =', number)\n",
        "    number = number + 1\n",
        "\n",
        "print('эта инструкция выполняется после выхода из цикла')"
      ]
    },
    {
      "cell_type": "markdown",
      "metadata": {
        "id": "_1P5aI3HoQGE"
      },
      "source": [
        "Расширенный синтаксис с заключительной инструкцией:"
      ]
    },
    {
      "cell_type": "code",
      "execution_count": null,
      "metadata": {
        "id": "xbsbMC1KoQGE",
        "outputId": "e26c68a7-2295-4c07-c7e7-2e49b227d52d"
      },
      "outputs": [
        {
          "name": "stdout",
          "output_type": "stream",
          "text": [
            "10\n",
            "8\n",
            "6\n",
            "4\n",
            "заключительная инструкция\n"
          ]
        }
      ],
      "source": [
        "counter = 10\n",
        "c = 'строка'\n",
        "while c == 'строка':\n",
        "    if counter > 2:\n",
        "        print(counter)\n",
        "    else:\n",
        "        c = 'другая строка'\n",
        "    counter -= 2\n",
        "else:\n",
        "    print('заключительная инструкция')"
      ]
    },
    {
      "cell_type": "markdown",
      "metadata": {
        "id": "J8kZAdoqoQGE"
      },
      "source": [
        "### Оператор `for`\n",
        "Для того, чтобы организовать цикл, в котором некоторая переменная пробегает множество значений в диапозоне от `0` до `n`, можно использовать функцию `range()`. Функция возвращает последовательность (объект класса `range`), по которой можно \"пройтись\" оператором `in`. Есть три способа вызова функции `range()`:\n",
        "- `range(n)` - последовательность в диапозоне от `0` до `n` с шагом `1`\n",
        "- `range(m, n)` - последовательность в диапозоне от `m` до `n` с шагом `1`\n",
        "- `range(m, n, s)` - последовательность в диапозоне от `m` до `n` с шагом `s`\n",
        "\n",
        "Шаг может быть отрицательным."
      ]
    },
    {
      "cell_type": "code",
      "execution_count": null,
      "metadata": {
        "id": "xM9lRj-EoQGE",
        "outputId": "cec70142-d30c-4855-800a-a328ada25c30"
      },
      "outputs": [
        {
          "name": "stdout",
          "output_type": "stream",
          "text": [
            "0\n",
            "1\n",
            "2\n",
            "3\n",
            "4\n"
          ]
        }
      ],
      "source": [
        "for i in range(5):\n",
        "    print(i)"
      ]
    },
    {
      "cell_type": "markdown",
      "metadata": {
        "id": "pVRE9JeOoQGF"
      },
      "source": [
        "Расширенный синтаксис с заключительной инструкцией:"
      ]
    },
    {
      "cell_type": "code",
      "execution_count": null,
      "metadata": {
        "id": "6gskqwnnoQGF",
        "outputId": "e832907c-4926-4aa2-807e-dbcb04c4c06b"
      },
      "outputs": [
        {
          "name": "stdout",
          "output_type": "stream",
          "text": [
            "20\n",
            "18\n",
            "16\n",
            "14\n",
            "12\n",
            "заключительная инструкция\n"
          ]
        }
      ],
      "source": [
        "for i in range(20, 10, -2):\n",
        "    print(i)\n",
        "else:\n",
        "    print('заключительная инструкция')"
      ]
    }
  ],
  "metadata": {
    "kernelspec": {
      "display_name": "Python 3.9.12 ('tf')",
      "language": "python",
      "name": "python3"
    },
    "language_info": {
      "codemirror_mode": {
        "name": "ipython",
        "version": 3
      },
      "file_extension": ".py",
      "mimetype": "text/x-python",
      "name": "python",
      "nbconvert_exporter": "python",
      "pygments_lexer": "ipython3",
      "version": "3.10.10"
    },
    "orig_nbformat": 4,
    "vscode": {
      "interpreter": {
        "hash": "e20f72739ffc6c3cc505414aaab49afe57115ca17c783e620ccfd5d632835ddf"
      }
    },
    "colab": {
      "provenance": [],
      "toc_visible": true
    }
  },
  "nbformat": 4,
  "nbformat_minor": 0
}
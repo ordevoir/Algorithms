{
  "cells": [
    {
      "cell_type": "markdown",
      "metadata": {
        "id": "WlFXiWVMsYfX"
      },
      "source": [
        "## Выражения\n",
        "\n",
        "**Выражение** (*Expression*) представляет собой фрагмент кода, выдающий в результате выполнения некоторый результат, который можно вывести на печать, либо присвоить некоторой переменной.\n",
        "\n",
        "Простые выражения представляют собой просто некотору константу, переменную или вызов функции:"
      ]
    },
    {
      "cell_type": "code",
      "execution_count": null,
      "metadata": {
        "id": "C0HjHJxWsYfe"
      },
      "outputs": [],
      "source": [
        "10"
      ]
    },
    {
      "cell_type": "code",
      "execution_count": null,
      "metadata": {
        "id": "In_spfkesYfg"
      },
      "outputs": [],
      "source": [
        "type(10)"
      ]
    },
    {
      "cell_type": "markdown",
      "metadata": {
        "id": "qSGIV9v-sYfh"
      },
      "source": [
        "Сложные выражения содержат некоторые операторы, или комозицию функций:"
      ]
    },
    {
      "cell_type": "code",
      "execution_count": null,
      "metadata": {
        "id": "1q4yyoTKsYfi"
      },
      "outputs": [],
      "source": [
        "10 + 15"
      ]
    },
    {
      "cell_type": "code",
      "execution_count": null,
      "metadata": {
        "id": "ysqy9vJAsYfi"
      },
      "outputs": [],
      "source": [
        "float((10 + 15 * 2) // 2)"
      ]
    },
    {
      "cell_type": "code",
      "execution_count": null,
      "metadata": {
        "id": "zoizRIqRsYfj"
      },
      "outputs": [],
      "source": [
        "str(type(10))   # композиция функций"
      ]
    },
    {
      "cell_type": "markdown",
      "metadata": {
        "id": "eZvhho6jsYfk"
      },
      "source": [
        "Само по себе выражение не вносит изменений в среду выполнения, поэтому, следов от выполненных выражений мы не обнаружим в последующих секциях с кодом."
      ]
    },
    {
      "cell_type": "markdown",
      "metadata": {
        "id": "VFoNGm2IsYfl"
      },
      "source": [
        "Вот еще пример замысловатого выражения, результатом выполнения которого является список:"
      ]
    },
    {
      "cell_type": "code",
      "execution_count": null,
      "metadata": {
        "id": "OLoYPQaLsYfl"
      },
      "outputs": [],
      "source": [
        "[x for x in range(10)]"
      ]
    },
    {
      "cell_type": "markdown",
      "metadata": {
        "id": "nfrekIvgsYfm"
      },
      "source": [
        "## Инструкции\n",
        "\n",
        "**Инструкция** (*Statement*) представляет собой фрагмент кода, при выполнении которого совершается действие, приводящее к изменению в среде выполнения. Инструкции не возвращают значений. В частности, оператор присваивания приводит к тому, что в среде создается новая переменная, либо меняется значение уже существующей. Операторы циклов и ветвлений управляют действиями, но ничего не возвращают."
      ]
    },
    {
      "cell_type": "code",
      "execution_count": null,
      "metadata": {
        "id": "AXRIvT0KsYfm"
      },
      "outputs": [],
      "source": [
        "a = 10  # инструкция"
      ]
    },
    {
      "cell_type": "markdown",
      "metadata": {
        "id": "dkQbCswDsYfm"
      },
      "source": [
        "Так как в последней ячейке с кодом выполнена инструкция, мы не получили под ячейкой никакого выходного значения. Было бы бессмысленно пытаться вывести на печать результат выполнения операции присовения `print(a = 10)`.\n",
        "\n",
        "Но так как в программе среде выполнения произошло изменение, мы можем обнаружить следы инструкции в следующей ячейке: в ячейке будет теперь доступна переменная `a`, которая была создана в результате выполнения инструкции:"
      ]
    },
    {
      "cell_type": "code",
      "execution_count": null,
      "metadata": {
        "id": "U6r8mQcBsYfn"
      },
      "outputs": [],
      "source": [
        "a"
      ]
    },
    {
      "cell_type": "markdown",
      "metadata": {
        "id": "Q8p7N3W3sYfn"
      },
      "source": [
        "Следует отметить, что в инструкции `a = 10` содержалось и выражение: то, что напечатано справа от операторая `=`. Это простое выражение `10`, результатом выполнения которого является значение типа `int`, которое и присваивается переменной `a` в инструкции.\n",
        "\n",
        "В инструкции `a = 10.` выражение `10.` возвращало бы значение типа `float`."
      ]
    },
    {
      "cell_type": "markdown",
      "metadata": {
        "id": "NdZDPlHBsYfo"
      },
      "source": [
        "В общем случае, конечно, инструкция может и не оставить следов в среде выполнения. Рассмотрим, к примеру цикл:"
      ]
    },
    {
      "cell_type": "code",
      "execution_count": null,
      "metadata": {
        "id": "cTcCcwy6sYfo"
      },
      "outputs": [],
      "source": [
        "while True:\n",
        "    break"
      ]
    },
    {
      "cell_type": "markdown",
      "metadata": {
        "id": "M-J6nQ1ysYfo"
      },
      "source": [
        "Морфологически мы имеем дело с инструкцией. В самом деле, этот фрагмент кода ничего не возвращает, однако в среде выполнения никаких изменений в результате выполнения не произошло."
      ]
    },
    {
      "cell_type": "markdown",
      "metadata": {
        "id": "V8SMEEDssYfo"
      },
      "source": [
        "## Функции"
      ]
    },
    {
      "cell_type": "markdown",
      "metadata": {
        "id": "OPS7aYEVsYfp"
      },
      "source": [
        "### Базовый синтаксис\n",
        "\n",
        "Для **объявления** функции используется ключаевое слово `def` (сокращение от *define*). Тело функции прописывается с отступом. В данном примере функция принимает два аргумента. Второму аргументу в качестве значения по умолчанию присвоено значение `3`. Поэтому, если функции при вызове передан лишь один аргумент, второй аргумент автоматически примет значение `3` (см. ниже)."
      ]
    },
    {
      "cell_type": "code",
      "execution_count": 9,
      "metadata": {
        "id": "0imQ5i_ksYfp"
      },
      "outputs": [],
      "source": [
        "def some_function(a, b=3):\n",
        "    \"\"\"Принимает два числовых аргумента a, b\n",
        "    Возвращает: список из трех элементов (a, b и результат их произведения)\"\"\"\n",
        "    c = a * b\n",
        "    return [a, b, c]"
      ]
    },
    {
      "cell_type": "markdown",
      "metadata": {
        "id": "CksddMVmsYfp"
      },
      "source": [
        "При объявлении функции не производится выполнения тела функции. Выполнение осуществляется только при **вызове** (*call*) функции. Синтаксис вызова функции:"
      ]
    },
    {
      "cell_type": "code",
      "execution_count": null,
      "metadata": {
        "id": "JBtAiy56sYfp"
      },
      "outputs": [],
      "source": [
        "x, y = 5, 6\n",
        "some_function(x, y)"
      ]
    },
    {
      "cell_type": "markdown",
      "metadata": {
        "id": "3mHNMK3msYfq"
      },
      "source": [
        "Очевидно, что вызов такой функции является выражением, результатом которого является значение, определяемое оператором `return`. Это значение, **возвращаемое** функцией, можно присвоить некоторой переменной."
      ]
    },
    {
      "cell_type": "code",
      "execution_count": null,
      "metadata": {
        "id": "EiOsj1cIsYfq"
      },
      "outputs": [],
      "source": [
        "p = some_function(x)\n",
        "print(p)"
      ]
    },
    {
      "cell_type": "markdown",
      "source": [
        "> При вызове функций всегда после имени функции идут круглые скобки `()`. Если написать имя функции без скобок, то вызова функций не произойдет: имя функции является переменной, которая ссылается на объект функции, так что если просто написать имя функции, это это будет выражение, возвращающее объект функции. Это обстоятельство позволяет передавать функции по ссылке (см. ниже)"
      ],
      "metadata": {
        "id": "j8X5RHVP0BAX"
      }
    },
    {
      "cell_type": "code",
      "source": [
        "some_function"
      ],
      "metadata": {
        "id": "xqTMugCN0a6R",
        "outputId": "14af39dc-0b41-4041-be0a-413d0d71d519",
        "colab": {
          "base_uri": "https://localhost:8080/"
        }
      },
      "execution_count": 10,
      "outputs": [
        {
          "output_type": "execute_result",
          "data": {
            "text/plain": [
              "<function __main__.some_function(a, b=3)>"
            ]
          },
          "metadata": {},
          "execution_count": 10
        }
      ]
    },
    {
      "cell_type": "markdown",
      "metadata": {
        "id": "0CfglF3asYfq"
      },
      "source": [
        "### Функции без `return`\n",
        "\n",
        "Функции без оператора возвращения `return` используются для процедурных решений, когда функция меняет что-либо в среде выполнения. В рассматриваемом примере функция `increase_elements_of_list()` изменяет список, который передается ему в качестве аргумента. При вызове в функцию передается список `a`, и итогом выполнения функции будет поэлментное увеличение значений в списке `a`."
      ]
    },
    {
      "cell_type": "code",
      "execution_count": null,
      "metadata": {
        "id": "i-QbRDEKsYfq"
      },
      "outputs": [],
      "source": [
        "a = [1, 2, 3]    # имя \"a\" ссылается на список"
      ]
    },
    {
      "cell_type": "code",
      "execution_count": null,
      "metadata": {
        "id": "4WD4C32_sYfq"
      },
      "outputs": [],
      "source": [
        "def increase_elements_of_list(x):\n",
        "    \"\"\" Функция принимает список чисел; Значение каждого элемента списка\n",
        "    увеличивается на 1 \"\"\"\n",
        "    for i in range(len(x)):\n",
        "        x[i] += 1\n",
        "\n",
        "increase_elements_of_list(a)   # вызов функции, функция меняет список \"a\"\n",
        "\n",
        "print(a)"
      ]
    },
    {
      "cell_type": "markdown",
      "metadata": {
        "id": "VUc6hMiGsYfr"
      },
      "source": [
        "Список `a` можно изменить в функции не передавая ее в качестве аргумента:"
      ]
    },
    {
      "cell_type": "code",
      "execution_count": null,
      "metadata": {
        "id": "fvkDQlC6sYfr"
      },
      "outputs": [],
      "source": [
        "def f():\n",
        "    a.append(a[-1]+1)\n",
        "\n",
        "f()\n",
        "print(a)"
      ]
    },
    {
      "cell_type": "markdown",
      "metadata": {
        "id": "UmPsdPL9sYfr"
      },
      "source": [
        "Строго говоря, функции без `return` все же кое что возвращают, а именно объект `None`:"
      ]
    },
    {
      "cell_type": "code",
      "execution_count": null,
      "metadata": {
        "id": "miQGh8NSsYfr"
      },
      "outputs": [],
      "source": [
        "result = increase_elements_of_list(a)\n",
        "print(result)"
      ]
    },
    {
      "cell_type": "code",
      "execution_count": null,
      "metadata": {
        "id": "Eyaw8xlhsYfs"
      },
      "outputs": [],
      "source": [
        "f()\n",
        "a"
      ]
    },
    {
      "cell_type": "markdown",
      "metadata": {
        "id": "bVh_Cy3bsYfs"
      },
      "source": [
        "В общем случае, конечно, функция может быть написана так, что она будет возвращать некоторое значение, и при этом оказывать [побочное] воздейстиве на переменные, определенные вне функции (т.е. влиять на среду выполнения). В таком случае говорят, что функция обладает **побочным эффектом** (*side effect*). **Чистыми функциями** (*Pure Functions*) называются функции, не обладающие побочным эффектом, и при одних и тех же аргументах, возвращающие одни и те же значения (детерминированные).\n",
        "\n",
        "> В процедурной функции изменение переменной может происходить в любом фрагменте тела функции, и более того, изменить можно перменную, которая напрямую не передавалась в функцию через аргумент. Это обстоятельство, несмотря на определенные преимущества, увеличивает риск допущения ошибок, которые, впоследствии, трудно отследить и отладить. Использование чистых функций с хорошо определенным интерфейсом существенно уменьшают такие риски, позволяя добиться хорошей структурированности программы."
      ]
    },
    {
      "cell_type": "markdown",
      "metadata": {
        "id": "gRqwJ1JtsYfs"
      },
      "source": [
        "### Бинарный оператор\n",
        "\n",
        "Бинарные операторы представляют собой функции от двух аргументов. Например, оператор сложения `+`, применяемый к двум операндам `a` и `b` равносилен функции `add()` из модуля `operator`:"
      ]
    },
    {
      "cell_type": "code",
      "execution_count": null,
      "metadata": {
        "id": "C34wNebGsYfs"
      },
      "outputs": [],
      "source": [
        "from operator import add\n",
        "\n",
        "a, b, c = 3, 5, 7\n",
        "\n",
        "s1 = a + b + c              # (a+b) + c\n",
        "\n",
        "s2 = add(add(a, b), c)\n",
        "\n",
        "print(s1)\n",
        "print(s2)"
      ]
    },
    {
      "cell_type": "markdown",
      "metadata": {
        "id": "7kZhqS7JsYft"
      },
      "source": [
        "Сложное выражении `a + b + c` вычисляется в два действия: сначала производится сложение значений переменных `a` и `b`, после чего результат складывается с `c`. Для вычисления суммы значений трех переменных посредством функции `add()`, результат вызова функции `add()` с аргументами `a`, `b` испльзуется в качестве первого аргумента при вызове внешней функции `add()`. Вызов функции внутри вызова функции представляет собой один из способов композиции функций."
      ]
    },
    {
      "cell_type": "markdown",
      "metadata": {
        "id": "lR639P2asYft"
      },
      "source": [
        "### Композиция функций\n",
        "\n",
        "Другой распространенный способ композиции функций - использование фукнкций, определенных ранее, в теле другой функции. В данном примере функция `multiplication()` использует для выполнения функции\n",
        "- `add()` – сложение\n",
        "- `sub()` – вычитание\n",
        "- `abs()` – абсолютное значение числа"
      ]
    },
    {
      "cell_type": "code",
      "execution_count": null,
      "metadata": {
        "id": "s78y8Gl5sYft"
      },
      "outputs": [],
      "source": [
        "from operator import add, sub, abs\n",
        "\n",
        "def multiplication(x, y):\n",
        "    z = 0\n",
        "    if y < 0:\n",
        "        for i in range(abs(y)):\n",
        "            z = sub(z, x)       # функция сложения\n",
        "    else:\n",
        "        for i in range(y):\n",
        "            z = add(z, x)\n",
        "    return z\n",
        "\n",
        "c = multiplication(-3, 5)\n",
        "print(c)"
      ]
    },
    {
      "cell_type": "markdown",
      "metadata": {
        "id": "deRCShO8sYfz"
      },
      "source": [
        "### Полиморфизм\n",
        "\n",
        "Полиморфизм заключается в возможности оператора (или функции) производить различные действия над операндами различных типов. В качестве примера рассмотрим оператор `+`. Если операндами будут числа, что оператор `+` произведет сложение чисел. Для строк и списков оператор `+` выполнит конкатенацию. Для массивов NumPy - матричное (векторное) сложение:"
      ]
    },
    {
      "cell_type": "code",
      "execution_count": null,
      "metadata": {
        "id": "NFlpMXt6sYf0"
      },
      "outputs": [],
      "source": [
        "import numpy as np\n",
        "\n",
        "a = np.array([1, 2, 3])\n",
        "b = np.array([4, 5, 6])\n",
        "\n",
        "print( 1 + 2 )                      # сложение чисел\n",
        "print( 'poly' + 'morphism' )        # конкатенация (склеивание)\n",
        "print( [1, 2, 3] + [4, 5, 6] )      # конкатенация (склеивание)\n",
        "print( a + b )                      # матричное сложение"
      ]
    },
    {
      "cell_type": "markdown",
      "metadata": {
        "id": "sdM0guX_sYf0"
      },
      "source": [
        "### Замыкания (Closure)\n",
        "\n",
        "В данном контексте замыканием можно назвать способ создания функций при помощи другой функции. При вызове функции `get_power_fn()`, она создает и возвращает функцию `power_to_n()`, которая определена в ее теле. Функция `power_to_n()` возвращает значение аргумента, возведенное в некоторую степень. Степень, в которую будет возводиться аргумент, определяется аргументом `n` внешней функции. Локальные имена функций после выполнения уничтожаются, но функция, на которую ссылается имя `power_to_n` передается по ссылке переменной `power_3`.\n",
        "\n",
        "Таким способом можно произвести множество функций, которые возводят аргумент в разные степени.\n"
      ]
    },
    {
      "cell_type": "code",
      "execution_count": null,
      "metadata": {
        "id": "enb-7JSRsYf0"
      },
      "outputs": [],
      "source": [
        "def get_power_fn(n):\n",
        "    def power_to_n(x):\n",
        "        return x ** n\n",
        "    return power_to_n\n",
        "\n",
        "power_3 = get_power_fn(3)\n",
        "power_3"
      ]
    },
    {
      "cell_type": "code",
      "execution_count": null,
      "metadata": {
        "id": "bO8l-_-4sYf0"
      },
      "outputs": [],
      "source": [
        "power_3(3)"
      ]
    },
    {
      "cell_type": "markdown",
      "source": [
        "### Передача функции по ссылке\n",
        "Python позволяет передавать функции по ссылке. Так как функция является объектом, то на него может ссылаться произвольное множество имен. Создадим список из арифметических функций `add, sub, mul, truediv`. Теперь доступ к этим функциям может быть осуществлен по индексам списка `operators`. Заметим, что при размещении функций в списке мы писали имена без скобок `()` (который произвел бы вызов функций)."
      ],
      "metadata": {
        "id": "BOA5Q2E2wPBA"
      }
    },
    {
      "cell_type": "code",
      "source": [
        "from operator import add, sub, mul, truediv\n",
        "\n",
        "operators = [add, sub, mul, truediv]\n",
        "print(operators[1])\n"
      ],
      "metadata": {
        "id": "wazrFinqwjLg",
        "outputId": "6c9f5df6-ffb6-4b35-916a-a92f3ef8e0de",
        "colab": {
          "base_uri": "https://localhost:8080/"
        }
      },
      "execution_count": 7,
      "outputs": [
        {
          "output_type": "stream",
          "name": "stdout",
          "text": [
            "<built-in function sub>\n"
          ]
        }
      ]
    },
    {
      "cell_type": "markdown",
      "source": [
        "Определим функцию `operate()`, которая первым аргументом примиает функцию по ссылке, и вызывает ее в операторе `return`. Вторым и третьим аргументом подразумевается передача чисел."
      ],
      "metadata": {
        "id": "r23Yt4Xl2FQK"
      }
    },
    {
      "cell_type": "code",
      "source": [
        "def operate(fn, x, y):\n",
        "    return fn(x, y)"
      ],
      "metadata": {
        "id": "98ZxhdXEyu8S"
      },
      "execution_count": null,
      "outputs": []
    },
    {
      "cell_type": "markdown",
      "source": [
        "Организуем цикл, в котором переменная `f` будет пробегаться по элементам списка `operators` (коими являются функции). В теле цикла будет вызываться функция `operate()`, в которую будут поочередно передаваться функции."
      ],
      "metadata": {
        "id": "9LefTn9a2mBS"
      }
    },
    {
      "cell_type": "code",
      "source": [
        "a, b = 9, 3\n",
        "\n",
        "for f in operators:\n",
        "    result = operate(f, a, b)\n",
        "    print(result)"
      ],
      "metadata": {
        "id": "zGnXwjF92lil"
      },
      "execution_count": null,
      "outputs": []
    },
    {
      "cell_type": "markdown",
      "metadata": {
        "id": "1fgVvfHwsYf1"
      },
      "source": [
        "## Рекурсия\n",
        "\n",
        "Рекурсивная функция обязательно должна обладать двумя свойствами:\n",
        "\n",
        "1. Должен существовать хотя бы один базовый случай, при котором\n",
        "функция проводит вычисление непосредственно, без рекурсии;\n",
        "2. Каждый рекурсивный вызов должен быть меньшим экземпляром той же\n",
        "самой задачи, чтобы вызовы достигли базового случая.\n",
        "\n",
        "У каждого вызова функции свое пространство имен: все имена `n` для каждго экземпляра вложенной функции – отдельное имя."
      ]
    },
    {
      "cell_type": "code",
      "execution_count": null,
      "metadata": {
        "id": "xq1ScXQSsYf1"
      },
      "outputs": [],
      "source": [
        "def factorial(n):\n",
        "    \"\"\" Рекурсивная функция, вычисляющая факториал числа: n! \"\"\"\n",
        "    if n < 1:   # базовый случай\n",
        "        print('реализуется базовый случай')\n",
        "        return 1\n",
        "    else:       # рекурсивный вызов\n",
        "        print('in, n =', n)\n",
        "        result = n *  factorial(n-1)\n",
        "        print('out, n =', n)\n",
        "        return  result\n",
        "\n",
        "factorial(4)"
      ]
    }
  ],
  "metadata": {
    "kernelspec": {
      "display_name": "Python 3.9.12 ('tf')",
      "language": "python",
      "name": "python3"
    },
    "language_info": {
      "codemirror_mode": {
        "name": "ipython",
        "version": 3
      },
      "file_extension": ".py",
      "mimetype": "text/x-python",
      "name": "python",
      "nbconvert_exporter": "python",
      "pygments_lexer": "ipython3",
      "version": "3.10.10"
    },
    "vscode": {
      "interpreter": {
        "hash": "e20f72739ffc6c3cc505414aaab49afe57115ca17c783e620ccfd5d632835ddf"
      }
    },
    "colab": {
      "provenance": [],
      "toc_visible": true
    }
  },
  "nbformat": 4,
  "nbformat_minor": 0
}